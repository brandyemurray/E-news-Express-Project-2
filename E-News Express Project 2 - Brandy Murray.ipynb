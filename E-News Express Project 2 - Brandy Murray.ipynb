{
 "cells": [
  {
   "cell_type": "markdown",
   "metadata": {},
   "source": [
    "<span style=\"font-family: Helvetica; font-weight:bold;font-size:2.5em;color:#581845\"> E-News Express Project 2 Analysis\n",
    "    \n",
    "<span style=\"font-family: Helvetica; font-weight:bold;font-size:1.5em;color:#01797D\"> Brandy Murray\n",
    "    \n",
    "\n",
    "<span style=\"font-family: Helvetica; font-weight:bold;font-size:1.5em;color:#581845\" >Description\n",
    "\n",
    "<span style=\"font-family: Helvetica;font-size:1.0em;color:black\" >An online news portal aims to expand its business by acquiring new subscribers. Every visitor to the websites takes certain actions based on their interest. The company plans to analyze these interests and wants to determine whether a new feature will be effective or not. Companies often analyze user's response to two variants of a product to decide which of the two variants is more effective. This experimental technique is known as a/b testing that is used to determine whether a new feature attracts users based on a chosen metric.\n",
    "\n",
    "<span style=\"font-family: Helvetica;font-size:1.0em;color:black\" >Suppose you are hired as a Data Scientist in E-News Express. The design team of the company has created a new landing page. You have been assigned the task to decide whether the new landing page is more effective to gather new subscribers. Suppose you randomly selected 100 users and divided them equally into two groups. The old landing page is served to the first group (control group) and the new landing page is served to the second group (treatment group). Various data about the customers in both groups are collected in 'abtest.csv'. Perform the statistical analysis toa nswer the following questions using the collected data.\n",
    "\n",
    "<span style=\"font-family: Helvetica; font-weight:bold;font-size:1.5em;color:#581845\" >Objective\n",
    "\n",
    "<span style=\"font-family: Helvetica;font-size:1.0em;color:black\" >Statistical analysis of the business data. Explore the dataset and extract insights from the data. The idea is for you to get comfortable with doing statistical analysis in Python. \n",
    "\n",
    "<span style=\"font-family: Helvetica;font-size:1.0em;color:black\" >You are expected to perform the stastical analysis to answer the following questions:\n",
    "\n",
    "\n",
    "<span style=\"font-family: Helvetica; font-weight:bold;font-size:1.5em;color:#581845\"> Table of Contents:\n",
    "<p style=\"margin-left: 2.5em;padding: 0 7em 2em 0;border-width: 2px; border-color: white; border-style:solid;\"><br>\n",
    "<a href = #link4>1. Explore the dataset and extract insights using EDA. </a><br><br>\n",
    "<a href = #link5>2. Do the users spend more time on the new landing page than the old landing page? </a><br><br>\n",
    "<a href = #link6>3. Is the conversion rate (the proportion of users who visit the landing page and get converted) for the new page greater than the conversion rate for the old page? </a><br><br>\n",
    "<a href = #link7>4. Does the converted status depend on the preferred language? [HINT: Create a contingency table using the pandas.crosstab() function] </a><br><br>\n",
    "<a href = #link8>5. Is the mean time spent on the new page same for the different language users?</a><br>\n",
    "\n",
    "<span style=\"font-family: Helvetica; font-weight:bold;font-size:1.0em;color:black\" >Consider a significance level of .05 for all tests"
   ]
  },
  {
   "cell_type": "markdown",
   "metadata": {},
   "source": [
    "<span style=\"font-family: Helvetica; font-weight:bold;font-size:1.5em;color:#581845\"> Data Dictionary\n",
    "\n",
    "<span style=\"font-family: Helvetica;font-size:1.0em;color:black\" >\n",
    "    <ol type=\"A\">\n",
    "        <li> user_id : Represents the user ID of the person visiting the website.</li>\n",
    "        <li> group - Represents whether the user belongs to the first group (control) or the second group (treatment).</li>\n",
    "        <li> landing_page : Represents whether the landing page is new or old.</li>\n",
    "        <li> time_spent_on_the_page : Represents the time (IN MINUTES) spent by the user on the landing page.</li>\n",
    "        <li> converted : Represents whether the user gets converted to a subscriber of the news portal or not.</li>\n",
    "        <li> language_preferred : Represents the language chosen by the user to view the landing page.</li>\n",
    "    </ol>"
   ]
  },
  {
   "cell_type": "markdown",
   "metadata": {},
   "source": [
    "<span style=\"font-family: Helvetica; font-weight:bold;font-size:1.5em;color:#01797D\"\n",
    "   name='link20'>Load the Appropriate Packages"
   ]
  },
  {
   "cell_type": "code",
   "execution_count": 14,
   "metadata": {},
   "outputs": [],
   "source": [
    "#import the important packages\n",
    "import pandas as pd #library used for data manipulation and analysis\n",
    "import numpy as np # library used for working with arrays.\n",
    "import matplotlib.pyplot as plt # library for plots and visualisations\n",
    "import seaborn as sns # library for visualisations\n",
    "%matplotlib inline \n",
    "\n",
    "import scipy.stats as stats # this library contains a large number of probability distributions as well as a growing library of statistical functions.\n",
    "\n",
    "import warnings # this allows for warnining messages to be ignored\n",
    "warnings.filterwarnings('ignore')"
   ]
  },
  {
   "cell_type": "markdown",
   "metadata": {},
   "source": [
    "<span style=\"font-family: Helvetica; font-weight:bold;font-size:1.5em;color:#01797D\"\n",
    "   name='link20'>Read the Dataset"
   ]
  },
  {
   "cell_type": "code",
   "execution_count": 3,
   "metadata": {},
   "outputs": [],
   "source": [
    "data = pd.read_csv('abtest.csv')"
   ]
  },
  {
   "cell_type": "code",
   "execution_count": 4,
   "metadata": {},
   "outputs": [],
   "source": [
    "# copying data to another varaible to avoid any changes to original data\n",
    "news = data.copy()"
   ]
  },
  {
   "cell_type": "markdown",
   "metadata": {},
   "source": [
    "<span style=\"font-family: Helvetica; font-weight:bold;font-size:1.5em;color:#01797D\"\n",
    "   name='link20'>View the First and Last 5 Rows of the Dataset"
   ]
  },
  {
   "cell_type": "code",
   "execution_count": 5,
   "metadata": {},
   "outputs": [
    {
     "data": {
      "text/html": [
       "<div>\n",
       "<style scoped>\n",
       "    .dataframe tbody tr th:only-of-type {\n",
       "        vertical-align: middle;\n",
       "    }\n",
       "\n",
       "    .dataframe tbody tr th {\n",
       "        vertical-align: top;\n",
       "    }\n",
       "\n",
       "    .dataframe thead th {\n",
       "        text-align: right;\n",
       "    }\n",
       "</style>\n",
       "<table border=\"1\" class=\"dataframe\">\n",
       "  <thead>\n",
       "    <tr style=\"text-align: right;\">\n",
       "      <th></th>\n",
       "      <th>user_id</th>\n",
       "      <th>group</th>\n",
       "      <th>landing_page</th>\n",
       "      <th>time_spent_on_the_page</th>\n",
       "      <th>converted</th>\n",
       "      <th>language_preferred</th>\n",
       "    </tr>\n",
       "  </thead>\n",
       "  <tbody>\n",
       "    <tr>\n",
       "      <th>0</th>\n",
       "      <td>546592</td>\n",
       "      <td>control</td>\n",
       "      <td>old</td>\n",
       "      <td>3.48</td>\n",
       "      <td>no</td>\n",
       "      <td>Spanish</td>\n",
       "    </tr>\n",
       "    <tr>\n",
       "      <th>1</th>\n",
       "      <td>546468</td>\n",
       "      <td>treatment</td>\n",
       "      <td>new</td>\n",
       "      <td>7.13</td>\n",
       "      <td>yes</td>\n",
       "      <td>English</td>\n",
       "    </tr>\n",
       "    <tr>\n",
       "      <th>2</th>\n",
       "      <td>546462</td>\n",
       "      <td>treatment</td>\n",
       "      <td>new</td>\n",
       "      <td>4.40</td>\n",
       "      <td>no</td>\n",
       "      <td>Spanish</td>\n",
       "    </tr>\n",
       "    <tr>\n",
       "      <th>3</th>\n",
       "      <td>546567</td>\n",
       "      <td>control</td>\n",
       "      <td>old</td>\n",
       "      <td>3.02</td>\n",
       "      <td>no</td>\n",
       "      <td>French</td>\n",
       "    </tr>\n",
       "    <tr>\n",
       "      <th>4</th>\n",
       "      <td>546459</td>\n",
       "      <td>treatment</td>\n",
       "      <td>new</td>\n",
       "      <td>4.75</td>\n",
       "      <td>yes</td>\n",
       "      <td>Spanish</td>\n",
       "    </tr>\n",
       "  </tbody>\n",
       "</table>\n",
       "</div>"
      ],
      "text/plain": [
       "   user_id      group landing_page  time_spent_on_the_page converted  \\\n",
       "0   546592    control          old                    3.48        no   \n",
       "1   546468  treatment          new                    7.13       yes   \n",
       "2   546462  treatment          new                    4.40        no   \n",
       "3   546567    control          old                    3.02        no   \n",
       "4   546459  treatment          new                    4.75       yes   \n",
       "\n",
       "  language_preferred  \n",
       "0            Spanish  \n",
       "1            English  \n",
       "2            Spanish  \n",
       "3             French  \n",
       "4            Spanish  "
      ]
     },
     "execution_count": 5,
     "metadata": {},
     "output_type": "execute_result"
    }
   ],
   "source": [
    "news.head()"
   ]
  },
  {
   "cell_type": "code",
   "execution_count": 6,
   "metadata": {},
   "outputs": [
    {
     "data": {
      "text/html": [
       "<div>\n",
       "<style scoped>\n",
       "    .dataframe tbody tr th:only-of-type {\n",
       "        vertical-align: middle;\n",
       "    }\n",
       "\n",
       "    .dataframe tbody tr th {\n",
       "        vertical-align: top;\n",
       "    }\n",
       "\n",
       "    .dataframe thead th {\n",
       "        text-align: right;\n",
       "    }\n",
       "</style>\n",
       "<table border=\"1\" class=\"dataframe\">\n",
       "  <thead>\n",
       "    <tr style=\"text-align: right;\">\n",
       "      <th></th>\n",
       "      <th>user_id</th>\n",
       "      <th>group</th>\n",
       "      <th>landing_page</th>\n",
       "      <th>time_spent_on_the_page</th>\n",
       "      <th>converted</th>\n",
       "      <th>language_preferred</th>\n",
       "    </tr>\n",
       "  </thead>\n",
       "  <tbody>\n",
       "    <tr>\n",
       "      <th>95</th>\n",
       "      <td>546446</td>\n",
       "      <td>treatment</td>\n",
       "      <td>new</td>\n",
       "      <td>5.15</td>\n",
       "      <td>no</td>\n",
       "      <td>Spanish</td>\n",
       "    </tr>\n",
       "    <tr>\n",
       "      <th>96</th>\n",
       "      <td>546544</td>\n",
       "      <td>control</td>\n",
       "      <td>old</td>\n",
       "      <td>6.52</td>\n",
       "      <td>yes</td>\n",
       "      <td>English</td>\n",
       "    </tr>\n",
       "    <tr>\n",
       "      <th>97</th>\n",
       "      <td>546472</td>\n",
       "      <td>treatment</td>\n",
       "      <td>new</td>\n",
       "      <td>7.07</td>\n",
       "      <td>yes</td>\n",
       "      <td>Spanish</td>\n",
       "    </tr>\n",
       "    <tr>\n",
       "      <th>98</th>\n",
       "      <td>546481</td>\n",
       "      <td>treatment</td>\n",
       "      <td>new</td>\n",
       "      <td>6.20</td>\n",
       "      <td>yes</td>\n",
       "      <td>Spanish</td>\n",
       "    </tr>\n",
       "    <tr>\n",
       "      <th>99</th>\n",
       "      <td>546483</td>\n",
       "      <td>treatment</td>\n",
       "      <td>new</td>\n",
       "      <td>5.86</td>\n",
       "      <td>yes</td>\n",
       "      <td>English</td>\n",
       "    </tr>\n",
       "  </tbody>\n",
       "</table>\n",
       "</div>"
      ],
      "text/plain": [
       "    user_id      group landing_page  time_spent_on_the_page converted  \\\n",
       "95   546446  treatment          new                    5.15        no   \n",
       "96   546544    control          old                    6.52       yes   \n",
       "97   546472  treatment          new                    7.07       yes   \n",
       "98   546481  treatment          new                    6.20       yes   \n",
       "99   546483  treatment          new                    5.86       yes   \n",
       "\n",
       "   language_preferred  \n",
       "95            Spanish  \n",
       "96            English  \n",
       "97            Spanish  \n",
       "98            Spanish  \n",
       "99            English  "
      ]
     },
     "execution_count": 6,
     "metadata": {},
     "output_type": "execute_result"
    }
   ],
   "source": [
    "news.tail()"
   ]
  },
  {
   "cell_type": "markdown",
   "metadata": {},
   "source": [
    "<span style=\"font-family: Helvetica; font-weight:bold;font-size:1.5em;color:#01797D\"\n",
    "   name='link20'>Understand the Shape of the Dataset"
   ]
  },
  {
   "cell_type": "code",
   "execution_count": 7,
   "metadata": {},
   "outputs": [
    {
     "data": {
      "text/plain": [
       "(100, 6)"
      ]
     },
     "execution_count": 7,
     "metadata": {},
     "output_type": "execute_result"
    }
   ],
   "source": [
    "news.shape"
   ]
  },
  {
   "cell_type": "markdown",
   "metadata": {},
   "source": [
    "<span style=\"font-family: Helvetica;font-size:1.0em;color:black\" >\n",
    "<ul>\n",
    "    <li>Dataset has 100 rows and 6 columns.</li>\n",
    "</ul>"
   ]
  },
  {
   "cell_type": "markdown",
   "metadata": {},
   "source": [
    "<span style=\"font-family: Helvetica; font-weight:bold;font-size:1.5em;color:#01797D\"\n",
    "   name='link20'>Check the Data Types of the Columns for the Dataset</a>"
   ]
  },
  {
   "cell_type": "code",
   "execution_count": 8,
   "metadata": {},
   "outputs": [
    {
     "name": "stdout",
     "output_type": "stream",
     "text": [
      "<class 'pandas.core.frame.DataFrame'>\n",
      "RangeIndex: 100 entries, 0 to 99\n",
      "Data columns (total 6 columns):\n",
      " #   Column                  Non-Null Count  Dtype  \n",
      "---  ------                  --------------  -----  \n",
      " 0   user_id                 100 non-null    int64  \n",
      " 1   group                   100 non-null    object \n",
      " 2   landing_page            100 non-null    object \n",
      " 3   time_spent_on_the_page  100 non-null    float64\n",
      " 4   converted               100 non-null    object \n",
      " 5   language_preferred      100 non-null    object \n",
      "dtypes: float64(1), int64(1), object(4)\n",
      "memory usage: 4.8+ KB\n"
     ]
    }
   ],
   "source": [
    "news.info()"
   ]
  },
  {
   "cell_type": "markdown",
   "metadata": {},
   "source": [
    "<span style=\"font-family: Helvetica; font-weight:bold;font-size:1.5em;color:#01797D\"\n",
    "   name='link20'>Fixing the Data Types\n",
    "   \n",
    "<span style=\"font-family: Helvetica;font-size:1.0em;color:black\" >\n",
    "<ul>\n",
    "    <li>group, landing_page, converted, and language_preferred are of object type, we can change them to categories.\n",
    "\n",
    "<span style=\"font-family: Helvetica;font-size:1.0em;color:black\" >coverting \"objects\" to \"category\" reduces the data space required to store the dataframe"
   ]
  },
  {
   "cell_type": "code",
   "execution_count": 9,
   "metadata": {},
   "outputs": [],
   "source": [
    "news[\"group\"] = news[\"group\"].astype(\"category\")\n",
    "news[\"landing_page\"] = news[\"landing_page\"].astype(\"category\")\n",
    "news[\"converted\"] = news[\"converted\"].astype(\"category\")\n",
    "news[\"language_preferred\"] = news[\"language_preferred\"].astype(\"category\")"
   ]
  },
  {
   "cell_type": "code",
   "execution_count": 10,
   "metadata": {},
   "outputs": [
    {
     "name": "stdout",
     "output_type": "stream",
     "text": [
      "<class 'pandas.core.frame.DataFrame'>\n",
      "RangeIndex: 100 entries, 0 to 99\n",
      "Data columns (total 6 columns):\n",
      " #   Column                  Non-Null Count  Dtype   \n",
      "---  ------                  --------------  -----   \n",
      " 0   user_id                 100 non-null    int64   \n",
      " 1   group                   100 non-null    category\n",
      " 2   landing_page            100 non-null    category\n",
      " 3   time_spent_on_the_page  100 non-null    float64 \n",
      " 4   converted               100 non-null    category\n",
      " 5   language_preferred      100 non-null    category\n",
      "dtypes: category(4), float64(1), int64(1)\n",
      "memory usage: 2.5 KB\n"
     ]
    }
   ],
   "source": [
    "news.info()"
   ]
  },
  {
   "cell_type": "markdown",
   "metadata": {},
   "source": [
    "<span style=\"font-family: Helvetica;font-size:1.0em;color:black\" >\n",
    "<ul>\n",
    "    <li>group, landing_page, converted, and language_preferred have been converted to categories</li>\n",
    "    <li>We can see that the memory usage has decreased from 4.8+ KB to 2.5 KB\n",
    "</ul>"
   ]
  },
  {
   "cell_type": "markdown",
   "metadata": {},
   "source": [
    "<span style=\"font-family: Helvetica; font-weight:bold;font-size:1.5em;color:#01797D\"\n",
    "   name='link20'>Give a Statistical Summary for the Dataset"
   ]
  },
  {
   "cell_type": "code",
   "execution_count": null,
   "metadata": {},
   "outputs": [],
   "source": [
    "news.describe(include = 'all')"
   ]
  },
  {
   "cell_type": "markdown",
   "metadata": {},
   "source": [
    "<span style=\"font-family: Helvetica;font-size:1.0em;color:black\" >\n",
    "<ul>\n",
    "    <li>By including all the variables we can see there are no missing values in any column.</li>\n",
    "    <li>The only variable we can use the statistical data for is the time_spent_on_the_page:</li>\n",
    "    <ul>\n",
    "        <li style=\"margin-left:1em\"> The mean appears to be very close to the median. This means that the data will appear to be normally distributed.>  \n",
    "        <li style=\"margin-left:1em;\"> It is worth mentioning that with the limited data in this dataset even the smallest difference between the mean and the median can show a skewedness. In this case with the mean being ever so slightly less than the median the distribution may slightly appear slightly left skewed.</li>\n",
    "    </ul>\n",
    "    <li>Under the converted variable we can see that 54 people converted.</li> \n",
    "    <li>Spanish was the top language_preferred. </li>"
   ]
  },
  {
   "cell_type": "markdown",
   "metadata": {},
   "source": [
    "<span style=\"font-family: Helvetica; font-weight:bold;font-size:1.5em;color:#01797D\"\n",
    "   name='link20'>Check for Missng Values"
   ]
  },
  {
   "cell_type": "code",
   "execution_count": 11,
   "metadata": {},
   "outputs": [
    {
     "data": {
      "text/plain": [
       "user_id                   0\n",
       "group                     0\n",
       "landing_page              0\n",
       "time_spent_on_the_page    0\n",
       "converted                 0\n",
       "language_preferred        0\n",
       "dtype: int64"
      ]
     },
     "execution_count": 11,
     "metadata": {},
     "output_type": "execute_result"
    }
   ],
   "source": [
    "news.isnull().sum()"
   ]
  },
  {
   "cell_type": "markdown",
   "metadata": {},
   "source": [
    "<span style=\"font-family: Helvetica;font-size:1.0em;color:black\" >\n",
    "<ul>\n",
    "    <li>As stated in the previoud describe function, there are no missing values.\n",
    "</ul>"
   ]
  },
  {
   "cell_type": "markdown",
   "metadata": {},
   "source": [
    "<a style=\"font-family: Helvetica; font-weight:bold;font-size:1.5em;color:#01797D\" \n",
    "   name='link4'>Part One of Objectives: Explore the Dataset and Extract Insights using EDA</a> \n",
    "   \n",
    "<span style=\"font-family: Helvetica; font-weight:bold;font-size:1.25em;color:#581845\" >Univariate Analysis"
   ]
  },
  {
   "cell_type": "code",
   "execution_count": 12,
   "metadata": {},
   "outputs": [],
   "source": [
    "# While doing uni-variate analysis of numerical variables we want to study their central tendency \n",
    "# and dispersion.\n",
    "# Let us write a function that will help us create boxplot and histogram for any input numerical \n",
    "# variable.\n",
    "# This function takes the numerical column as the input and returns the boxplots \n",
    "# and histograms for the variable.\n",
    "# Let us see if this help us write faster and cleaner code.\n",
    "def histogram_boxplot(feature, figsize=(10,5), bins = None):\n",
    "    \"\"\" Boxplot and histogram combined\n",
    "    feature: 1-d feature array\n",
    "    figsize: size of fig (default (9,8))\n",
    "    bins: number of bins (default None / auto)\n",
    "    \"\"\"\n",
    "    f2, (ax_box2, ax_hist2) = plt.subplots(nrows = 2, # Number of rows of the subplot grid= 2\n",
    "                                           sharex = True, # x-axis will be shared among all subplots\n",
    "                                           gridspec_kw = {\"height_ratios\": (.25, .75)}, \n",
    "                                           figsize = figsize \n",
    "                                           ) # creating the 2 subplots\n",
    "    sns.boxplot(feature, ax=ax_box2, showmeans=True, color='violet') # boxplot will be created and a star will indicate the mean value of the column\n",
    "    sns.distplot(feature, kde=F, ax=ax_hist2, bins=bins,palette=\"winter\") if bins else sns.distplot(feature, kde=False, ax=ax_hist2) # For histogram\n",
    "    ax_hist2.axvline(np.mean(feature), color='green', linestyle='--') # Add mean to the histogram\n",
    "    ax_hist2.axvline(np.median(feature), color='black', linestyle='-') # Add median to the histogram"
   ]
  },
  {
   "cell_type": "markdown",
   "metadata": {},
   "source": [
    "<span style=\"font-family: Helvetica; font-weight:bold;font-size:1.5em;color:#01797D\" > Observations on Time Spent on the Page"
   ]
  },
  {
   "cell_type": "code",
   "execution_count": 15,
   "metadata": {},
   "outputs": [
    {
     "data": {
      "image/png": "[encoded data removed]",
      "text/plain": [
       "<Figure size 720x360 with 2 Axes>"
      ]
     },
     "metadata": {
      "needs_background": "light"
     },
     "output_type": "display_data"
    }
   ],
   "source": [
    "histogram_boxplot(news[\"time_spent_on_the_page\"])"
   ]
  },
  {
   "cell_type": "markdown",
   "metadata": {},
   "source": [
    "<span style=\"font-family: Helvetica; font-weight:bold;font-size:1.25em;color:#581845\" >Observations\n",
    "<span style=\"font-family: Helvetica;font-size:1.5em;color:black\" >\n",
    "<ul>\n",
    "    <li> There is the slightest difference between the mean and median in this dataset with the limited data, this appears to be slightly skewed to the left. However, the difference between the mean and median is so small that in a bigger dataset if the difference between the mean and the median was the same, it would be considered normally distributed.</li>\n",
    "    <li> There are no outliers in with this variable.</li>\n",
    "    <li> From the boxplot, we can see that the third quartile(Q3) is equal to 7.02 seconds which means that 75% of the customers spent less than 7.02 seconds on the page. </li> \n",
    "</ul>"
   ]
  },
  {
   "cell_type": "code",
   "execution_count": 16,
   "metadata": {},
   "outputs": [],
   "source": [
    "# Function to create barplots that indicate percentage for each category.\n",
    "\n",
    "def perc_on_bar(plot, feature):\n",
    "    '''\n",
    "    plot\n",
    "    feature: categorical feature\n",
    "    the function won't work if a column is passed in hue parameter\n",
    "    '''\n",
    "    total = len(feature) # length of the column\n",
    "    for p in ax.patches:\n",
    "        percentage = '{:.1f}%'.format(100 * p.get_height()/total) # percentage of each class of the category\n",
    "        x = p.get_x() + p.get_width() / 2 - 0.05 # width of the plot\n",
    "        y = p.get_y() + p.get_height()           # hieght of the plot\n",
    "        ax.annotate(percentage, (x, y), size = 12) # annotate the percantage \n",
    "    plt.show() # show the plot"
   ]
  },
  {
   "cell_type": "markdown",
   "metadata": {},
   "source": [
    "<span style=\"font-family: Helvetica; font-weight:bold;font-size:1.5em;color:#01797D\" > Observations on Group"
   ]
  },
  {
   "cell_type": "code",
   "execution_count": 17,
   "metadata": {},
   "outputs": [
    {
     "data": {
      "image/png": "[encoded data removed]",
      "text/plain": [
       "<Figure size 720x360 with 1 Axes>"
      ]
     },
     "metadata": {
      "needs_background": "light"
     },
     "output_type": "display_data"
    }
   ],
   "source": [
    "plt.figure(figsize=(10,5))\n",
    "ax = sns.countplot(news[\"group\"],palette='winter')\n",
    "perc_on_bar(ax,news[\"group\"])"
   ]
  },
  {
   "cell_type": "markdown",
   "metadata": {},
   "source": [
    "<span style=\"font-family: Helvetica; font-weight:bold;font-size:1.25em;color:#581845\" >Observations\n",
    "<span style=\"font-family: Helvetica;font-size:1.5em;color:black\" >\n",
    "<ul>\n",
    "    <li> Here we can see the sample was split 50/50 into the control group and the treatment group with 50 participants in each group.</li> \n",
    "</ul>"
   ]
  },
  {
   "cell_type": "markdown",
   "metadata": {},
   "source": [
    "<span style=\"font-family: Helvetica; font-weight:bold;font-size:1.5em;color:#01797D\" > Observations on Landing Page"
   ]
  },
  {
   "cell_type": "code",
   "execution_count": 18,
   "metadata": {},
   "outputs": [
    {
     "data": {
      "image/png": "[encoded data removed]",
      "text/plain": [
       "<Figure size 720x360 with 1 Axes>"
      ]
     },
     "metadata": {
      "needs_background": "light"
     },
     "output_type": "display_data"
    }
   ],
   "source": [
    "plt.figure(figsize=(10,5))\n",
    "ax = sns.countplot(news[\"landing_page\"],palette='winter')\n",
    "perc_on_bar(ax,news[\"landing_page\"])"
   ]
  },
  {
   "cell_type": "markdown",
   "metadata": {},
   "source": [
    "<span style=\"font-family: Helvetica; font-weight:bold;font-size:1.25em;color:#581845\" >Observations\n",
    "<span style=\"font-family: Helvetica;font-size:1.5em;color:black\" >\n",
    "<ul>\n",
    "    <li> Here we can prove the sample data was split 50/50 with 50 participants viewing the old landing page and 50 viewing the new landing page.</li> \n",
    "    <li> As you will see throughout this analysis, since the groups were split between control and treatment and the landing_page was split into old and new, with old being the control and new being the treatment the outcomes of each observation is the same. </li>\n",
    "</ul>"
   ]
  },
  {
   "cell_type": "markdown",
   "metadata": {},
   "source": [
    "<span style=\"font-family: Helvetica; font-weight:bold;font-size:1.5em;color:#01797D\" > Observations on Converted"
   ]
  },
  {
   "cell_type": "code",
   "execution_count": 19,
   "metadata": {},
   "outputs": [
    {
     "data": {
      "image/png": "[encoded data removed]",
      "text/plain": [
       "<Figure size 720x360 with 1 Axes>"
      ]
     },
     "metadata": {
      "needs_background": "light"
     },
     "output_type": "display_data"
    }
   ],
   "source": [
    "plt.figure(figsize=(10,5))\n",
    "ax = sns.countplot(news[\"converted\"],palette='winter')\n",
    "perc_on_bar(ax,news[\"converted\"])"
   ]
  },
  {
   "cell_type": "markdown",
   "metadata": {},
   "source": [
    "<span style=\"font-family: Helvetica; font-weight:bold;font-size:1.25em;color:#581845\" >Observations\n",
    "<span style=\"font-family: Helvetica;font-size:1.5em;color:black\" >\n",
    "<ul>\n",
    "    <li> This shows that 54% of the people converted and 46% did not convert.</li> \n",
    "</ul>"
   ]
  },
  {
   "cell_type": "markdown",
   "metadata": {},
   "source": [
    "<span style=\"font-family: Helvetica; font-weight:bold;font-size:1.5em;color:#01797D\" > Observations on Language Preferred"
   ]
  },
  {
   "cell_type": "code",
   "execution_count": 20,
   "metadata": {},
   "outputs": [
    {
     "data": {
      "image/png": "[encoded data removed]",
      "text/plain": [
       "<Figure size 720x360 with 1 Axes>"
      ]
     },
     "metadata": {
      "needs_background": "light"
     },
     "output_type": "display_data"
    }
   ],
   "source": [
    "plt.figure(figsize=(10,5))\n",
    "ax = sns.countplot(news[\"language_preferred\"],palette='winter')\n",
    "perc_on_bar(ax,news[\"language_preferred\"])"
   ]
  },
  {
   "cell_type": "markdown",
   "metadata": {},
   "source": [
    "<span style=\"font-family: Helvetica; font-weight:bold;font-size:1.25em;color:#581845\" >Observations\n",
    "<span style=\"font-family: Helvetica;font-size:1.5em;color:black\" >\n",
    "<ul>\n",
    "    <li> There were three languages that were offered. Both Spanish and French were preferred 34% of the time, while English was preferred 32% of the time.</li> \n",
    "</ul>"
   ]
  },
  {
   "cell_type": "markdown",
   "metadata": {},
   "source": [
    "<span style=\"font-family: Helvetica; font-weight:bold;font-size:1.25em;color:#581845\" >Bivariate Analysis"
   ]
  },
  {
   "cell_type": "code",
   "execution_count": 21,
   "metadata": {},
   "outputs": [
    {
     "data": {
      "image/png": "[encoded data removed]",
      "text/plain": [
       "<Figure size 216.875x180 with 2 Axes>"
      ]
     },
     "metadata": {
      "needs_background": "light"
     },
     "output_type": "display_data"
    },
    {
     "data": {
      "image/png": "[encoded data removed]",
      "text/plain": [
       "<Figure size 255.25x180 with 2 Axes>"
      ]
     },
     "metadata": {
      "needs_background": "light"
     },
     "output_type": "display_data"
    },
    {
     "data": {
      "image/png": "[encoded data removed]",
      "text/plain": [
       "<Figure size 238.375x180 with 2 Axes>"
      ]
     },
     "metadata": {
      "needs_background": "light"
     },
     "output_type": "display_data"
    },
    {
     "data": {
      "image/png": "[encoded data removed]",
      "text/plain": [
       "<Figure size 286.125x180 with 2 Axes>"
      ]
     },
     "metadata": {
      "needs_background": "light"
     },
     "output_type": "display_data"
    }
   ],
   "source": [
    "sns.pairplot(data=news.drop(['user_id'],axis=1),hue=\"group\")\n",
    "plt.legend(news['group'],title='Group',bbox_to_anchor=(1.75,1))\n",
    "sns.pairplot(data=news.drop(['user_id'],axis=1),hue=\"landing_page\")\n",
    "plt.legend(news['landing_page'],title='Landing Page',bbox_to_anchor=(1.75,1))\n",
    "sns.pairplot(data=news.drop(['user_id'],axis=1),hue=\"converted\")\n",
    "plt.legend(news['converted'],title='Converted',bbox_to_anchor=(1.75,1))\n",
    "sns.pairplot(data=news.drop(['user_id'],axis=1),hue=\"language_preferred\")\n",
    "plt.legend(news['language_preferred'],title='Language Preferred',bbox_to_anchor=(1.75,1))\n",
    "plt.show()"
   ]
  },
  {
   "cell_type": "markdown",
   "metadata": {},
   "source": [
    "<span style=\"font-family: Helvetica; font-weight:bold;font-size:1.25em;color:#581845\" >Observations\n",
    "<span style=\"font-family: Helvetica;font-size:1.5em;color:black\" >\n",
    "<ul>\n",
    "    <li> Here we can see there is some variation between the variables versus the time spent on the landing page. We need to further investigate this. </li>\n",
    "</ul>"
   ]
  },
  {
   "cell_type": "markdown",
   "metadata": {},
   "source": [
    "<span style=\"font-family: Helvetica; font-weight:bold;font-size:1.5em;color:#01797D\" > Group vs Time Spent on the Page"
   ]
  },
  {
   "cell_type": "code",
   "execution_count": 22,
   "metadata": {},
   "outputs": [
    {
     "data": {
      "image/png": "[encoded data removed]",
      "text/plain": [
       "<Figure size 720x360 with 1 Axes>"
      ]
     },
     "metadata": {
      "needs_background": "light"
     },
     "output_type": "display_data"
    }
   ],
   "source": [
    "plt.figure(figsize=(10,5))\n",
    "sns.boxplot(news[\"group\"],news[\"time_spent_on_the_page\"],palette=\"PuBu\")\n",
    "plt.show()"
   ]
  },
  {
   "cell_type": "code",
   "execution_count": 51,
   "metadata": {},
   "outputs": [
    {
     "name": "stdout",
     "output_type": "stream",
     "text": [
      "Control        time_spent_on_the_page\n",
      "count               50.000000\n",
      "mean                 4.532400\n",
      "std                  2.581975\n",
      "min                  0.190000\n",
      "25%                  2.720000\n",
      "50%                  4.380000\n",
      "75%                  6.442500\n",
      "max                 10.300000\n",
      "\n",
      "Treatment        time_spent_on_the_page\n",
      "count               50.000000\n",
      "mean                 6.223200\n",
      "std                  1.817031\n",
      "min                  1.650000\n",
      "25%                  5.175000\n",
      "50%                  6.105000\n",
      "75%                  7.160000\n",
      "max                 10.710000\n"
     ]
    }
   ],
   "source": [
    "print('Control',news.drop(['user_id'],axis=1)[news[\"group\"]==\"control\"].describe())\n",
    "print(\"\")\n",
    "print('Treatment',news.drop(['user_id'],axis=1)[news[\"group\"]==\"treatment\"].describe())"
   ]
  },
  {
   "cell_type": "markdown",
   "metadata": {},
   "source": [
    "<span style=\"font-family: Helvetica; font-weight:bold;font-size:1.25em;color:#581845\" >Observations\n",
    "<span style=\"font-family: Helvetica;font-size:1.5em;color:black\" >\n",
    "<ul>\n",
    "    <li> The control group has a larger variance of 3.72 minutes (Q3-Q1) than the treatment group did with a variance of 1.99 minutes. </li>\n",
    "    <li> The treament group had a few outliers but 75% of the people spent at least 7.16 minutes on the new page. </li>\n",
    "</ul>"
   ]
  },
  {
   "cell_type": "markdown",
   "metadata": {},
   "source": [
    "<span style=\"font-family: Helvetica; font-weight:bold;font-size:1.5em;color:#01797D\" > Landing Page vs Time Spent on the Page"
   ]
  },
  {
   "cell_type": "code",
   "execution_count": 39,
   "metadata": {},
   "outputs": [
    {
     "data": {
      "image/png": "[encoded data removed]",
      "text/plain": [
       "<Figure size 720x360 with 1 Axes>"
      ]
     },
     "metadata": {
      "needs_background": "light"
     },
     "output_type": "display_data"
    }
   ],
   "source": [
    "plt.figure(figsize=(10,5))\n",
    "sns.boxplot(news[\"landing_page\"],news[\"time_spent_on_the_page\"],palette=\"PuBu\",order=['old','new'])\n",
    "plt.show()"
   ]
  },
  {
   "cell_type": "code",
   "execution_count": 49,
   "metadata": {},
   "outputs": [
    {
     "name": "stdout",
     "output_type": "stream",
     "text": [
      "Old        time_spent_on_the_page\n",
      "count               50.000000\n",
      "mean                 4.532400\n",
      "std                  2.581975\n",
      "min                  0.190000\n",
      "25%                  2.720000\n",
      "50%                  4.380000\n",
      "75%                  6.442500\n",
      "max                 10.300000\n",
      "\n",
      "New        time_spent_on_the_page\n",
      "count               50.000000\n",
      "mean                 6.223200\n",
      "std                  1.817031\n",
      "min                  1.650000\n",
      "25%                  5.175000\n",
      "50%                  6.105000\n",
      "75%                  7.160000\n",
      "max                 10.710000\n"
     ]
    }
   ],
   "source": [
    "print('Old',news.drop(['user_id'],axis=1)[news[\"landing_page\"]==\"old\"].describe())\n",
    "print(\"\")\n",
    "print('New',news.drop(['user_id'],axis=1)[news[\"landing_page\"]==\"new\"].describe())"
   ]
  },
  {
   "cell_type": "markdown",
   "metadata": {},
   "source": [
    "<span style=\"font-family: Helvetica; font-weight:bold;font-size:1.25em;color:#581845\" >Observations\n",
    "<span style=\"font-family: Helvetica;font-size:1.5em;color:black\" >\n",
    "<ul>\n",
    "    <li> This shows as stated earlier, that the variables group and landing_page have the same outcomes because of the way the experiment was set up. </li>\n",
    "</ul>"
   ]
  },
  {
   "cell_type": "markdown",
   "metadata": {},
   "source": [
    "<span style=\"font-family: Helvetica; font-weight:bold;font-size:1.5em;color:#01797D\" > Converted vs Time Spent on the Page"
   ]
  },
  {
   "cell_type": "code",
   "execution_count": 43,
   "metadata": {},
   "outputs": [
    {
     "data": {
      "image/png": "[encoded data removed]",
      "text/plain": [
       "<Figure size 720x360 with 1 Axes>"
      ]
     },
     "metadata": {
      "needs_background": "light"
     },
     "output_type": "display_data"
    }
   ],
   "source": [
    "plt.figure(figsize=(10,5))\n",
    "sns.boxplot(news[\"converted\"],news[\"time_spent_on_the_page\"],palette=\"PuBu\")\n",
    "plt.show()"
   ]
  },
  {
   "cell_type": "code",
   "execution_count": 48,
   "metadata": {},
   "outputs": [
    {
     "name": "stdout",
     "output_type": "stream",
     "text": [
      "No        time_spent_on_the_page\n",
      "count               46.000000\n",
      "mean                 3.915870\n",
      "std                  2.226897\n",
      "min                  0.190000\n",
      "25%                  2.337500\n",
      "50%                  3.980000\n",
      "75%                  4.922500\n",
      "max                  9.150000\n",
      "\n",
      "Yes        time_spent_on_the_page\n",
      "count               54.000000\n",
      "mean                 6.623148\n",
      "std                  1.708427\n",
      "min                  2.580000\n",
      "25%                  5.500000\n",
      "50%                  6.495000\n",
      "75%                  7.367500\n",
      "max                 10.710000\n"
     ]
    }
   ],
   "source": [
    "print('No',news.drop(['user_id'],axis=1)[news[\"converted\"]==\"no\"].describe())\n",
    "print(\"\")\n",
    "print('Yes',news.drop(['user_id'],axis=1)[news[\"converted\"]==\"yes\"].describe())"
   ]
  },
  {
   "cell_type": "markdown",
   "metadata": {},
   "source": [
    "<span style=\"font-family: Helvetica; font-weight:bold;font-size:1.25em;color:#581845\" >Observations\n",
    "<span style=\"font-family: Helvetica;font-size:1.5em;color:black\" >\n",
    "<ul>\n",
    "    <li> This shows us that people who did not convert spent less time on the page than people who did convert. </li>\n",
    "    <li> 75% of the people who did not convert only spent 4.92 minutes on the page. </li>\n",
    "    <li> 75% of the people that did convert 7.37 minutes on the page. </li>\n",
    "</ul>"
   ]
  },
  {
   "cell_type": "markdown",
   "metadata": {},
   "source": [
    "<span style=\"font-family: Helvetica; font-weight:bold;font-size:1.5em;color:#01797D\" > Language Preferred vs Time Spent on the Page"
   ]
  },
  {
   "cell_type": "code",
   "execution_count": 53,
   "metadata": {},
   "outputs": [
    {
     "data": {
      "image/png": "[encoded data removed]",
      "text/plain": [
       "<Figure size 720x360 with 1 Axes>"
      ]
     },
     "metadata": {
      "needs_background": "light"
     },
     "output_type": "display_data"
    }
   ],
   "source": [
    "plt.figure(figsize=(10,5))\n",
    "sns.boxplot(news[\"language_preferred\"],news[\"time_spent_on_the_page\"],palette=\"PuBu\")\n",
    "plt.show()"
   ]
  },
  {
   "cell_type": "code",
   "execution_count": 54,
   "metadata": {},
   "outputs": [
    {
     "name": "stdout",
     "output_type": "stream",
     "text": [
      "English        time_spent_on_the_page\n",
      "count               32.000000\n",
      "mean                 5.559063\n",
      "std                  2.621079\n",
      "min                  0.220000\n",
      "25%                  3.617500\n",
      "50%                  5.755000\n",
      "75%                  7.137500\n",
      "max                 10.500000\n",
      "\n",
      "French        time_spent_on_the_page\n",
      "count               34.000000\n",
      "mean                 5.253235\n",
      "std                  2.675413\n",
      "min                  0.400000\n",
      "25%                  3.395000\n",
      "50%                  5.315000\n",
      "75%                  7.367500\n",
      "max                 10.710000\n",
      "\n",
      "Spanish        time_spent_on_the_page\n",
      "count               34.000000\n",
      "mean                 5.331765\n",
      "std                  1.818095\n",
      "min                  0.190000\n",
      "25%                  4.475000\n",
      "50%                  5.605000\n",
      "75%                  6.515000\n",
      "max                  8.720000\n"
     ]
    }
   ],
   "source": [
    "print('English',news.drop(['user_id'],axis=1)[news[\"language_preferred\"]==\"English\"].describe())\n",
    "print(\"\")\n",
    "print('French',news.drop(['user_id'],axis=1)[news[\"language_preferred\"]==\"French\"].describe())\n",
    "print(\"\")\n",
    "print('Spanish',news.drop(['user_id'],axis=1)[news[\"language_preferred\"]==\"Spanish\"].describe())"
   ]
  },
  {
   "cell_type": "markdown",
   "metadata": {},
   "source": [
    "<span style=\"font-family: Helvetica; font-weight:bold;font-size:1.25em;color:#581845\" >Observations\n",
    "<span style=\"font-family: Helvetica;font-size:1.5em;color:black\" >\n",
    "<ul>\n",
    "    <li> The three languages all had very similar medians at approximately 5 minutes. </li>\n",
    "    <li> Spanish had a much smaller variance though.  </li>\n",
    "</ul>"
   ]
  },
  {
   "cell_type": "code",
   "execution_count": 55,
   "metadata": {},
   "outputs": [],
   "source": [
    "# Function to create barplots that indicate percentage for each category.\n",
    "\n",
    "def count_on_bar(plot, feature):\n",
    "    '''\n",
    "    plot\n",
    "    feature: categorical feature\n",
    "    the function won't work if a column is passed in hue parameter\n",
    "    '''\n",
    "    for i in range(len(news)): \n",
    "        ax.annotate(str(news.loc[i,'counts']), \n",
    "                xy=(i,news.loc[i,'counts']))# annotate the count\n",
    "    plt.show() # show the plot"
   ]
  },
  {
   "cell_type": "markdown",
   "metadata": {},
   "source": [
    "<span style=\"font-family: Helvetica; font-weight:bold;font-size:1.5em;color:#01797D\" > Group Divided by Landing Page"
   ]
  },
  {
   "cell_type": "code",
   "execution_count": 56,
   "metadata": {},
   "outputs": [
    {
     "data": {
      "image/png": "[encoded data removed]",
      "text/plain": [
       "<Figure size 720x360 with 1 Axes>"
      ]
     },
     "metadata": {
      "needs_background": "light"
     },
     "output_type": "display_data"
    }
   ],
   "source": [
    "plt.figure(figsize=(10,5))\n",
    "sns.countplot(news[\"group\"],hue=news[\"landing_page\"],palette='winter')\n",
    "plt.legend(bbox_to_anchor=(1.00, 1))\n",
    "plt.show()"
   ]
  },
  {
   "cell_type": "markdown",
   "metadata": {},
   "source": [
    "<span style=\"font-family: Helvetica; font-weight:bold;font-size:1.25em;color:#581845\" >Observations\n",
    "<span style=\"font-family: Helvetica;font-size:1.5em;color:black\" >\n",
    "<ul>\n",
    "    <li> This again shows there are 50 people in each group that viewed each page based off of what group they were in.</li>\n",
    "</ul>"
   ]
  },
  {
   "cell_type": "markdown",
   "metadata": {},
   "source": [
    "<span style=\"font-family: Helvetica; font-weight:bold;font-size:1.5em;color:#01797D\" > Group Divided by Converted"
   ]
  },
  {
   "cell_type": "code",
   "execution_count": 86,
   "metadata": {},
   "outputs": [
    {
     "data": {
      "image/png": "[encoded data removed]",
      "text/plain": [
       "<Figure size 720x360 with 1 Axes>"
      ]
     },
     "metadata": {
      "needs_background": "light"
     },
     "output_type": "display_data"
    }
   ],
   "source": [
    "plt.figure(figsize=(10,5))\n",
    "sns.countplot(news[\"group\"],hue=news[\"converted\"],palette='winter')\n",
    "plt.legend(bbox_to_anchor=(1.00, 1))\n",
    "plt.show()"
   ]
  },
  {
   "cell_type": "markdown",
   "metadata": {},
   "source": [
    "<span style=\"font-family: Helvetica; font-weight:bold;font-size:1.25em;color:#581845\" >Observations\n",
    "<span style=\"font-family: Helvetica;font-size:1.5em;color:black\" >\n",
    "<ul>\n",
    "    <li> This again shows there are 50 people in each group that viewed each page based off of what group they were in.</li>\n",
    "</ul>"
   ]
  },
  {
   "cell_type": "markdown",
   "metadata": {},
   "source": [
    "<span style=\"font-family: Helvetica; font-weight:bold;font-size:1.5em;color:#01797D\" > Group Divided by Language Preferred"
   ]
  },
  {
   "cell_type": "code",
   "execution_count": 87,
   "metadata": {},
   "outputs": [
    {
     "data": {
      "image/png": "[encoded data removed]",
      "text/plain": [
       "<Figure size 720x360 with 1 Axes>"
      ]
     },
     "metadata": {
      "needs_background": "light"
     },
     "output_type": "display_data"
    }
   ],
   "source": [
    "plt.figure(figsize=(10,5))\n",
    "sns.countplot(news[\"group\"],hue=news[\"language_preferred\"],palette='winter')\n",
    "plt.legend(bbox_to_anchor=(1.00, 1))\n",
    "plt.show()"
   ]
  },
  {
   "cell_type": "markdown",
   "metadata": {},
   "source": [
    "<span style=\"font-family: Helvetica; font-weight:bold;font-size:1.5em;color:#01797D\" > Converted by Language Preferred"
   ]
  },
  {
   "cell_type": "code",
   "execution_count": 88,
   "metadata": {},
   "outputs": [
    {
     "data": {
      "image/png": "[encoded data removed]",
      "text/plain": [
       "<Figure size 720x360 with 1 Axes>"
      ]
     },
     "metadata": {
      "needs_background": "light"
     },
     "output_type": "display_data"
    }
   ],
   "source": [
    "plt.figure(figsize=(10,5))\n",
    "sns.countplot(news[\"converted\"],hue=news[\"language_preferred\"],palette='winter')\n",
    "plt.legend(bbox_to_anchor=(1.00, 1))\n",
    "plt.show()"
   ]
  },
  {
   "cell_type": "markdown",
   "metadata": {},
   "source": [
    "<span style=\"font-family: Helvetica; font-weight:bold;font-size:1.25em;color:#581845\" >Multivariate Analysis"
   ]
  },
  {
   "cell_type": "markdown",
   "metadata": {},
   "source": [
    "<span style=\"font-family: Helvetica; font-weight:bold;font-size:1.5em;color:#01797D\" > Landing Page vs Time Spent on the Page by Converted"
   ]
  },
  {
   "cell_type": "code",
   "execution_count": 89,
   "metadata": {},
   "outputs": [
    {
     "data": {
      "image/png": "[encoded data removed]",
      "text/plain": [
       "<Figure size 1080x504 with 1 Axes>"
      ]
     },
     "metadata": {
      "needs_background": "light"
     },
     "output_type": "display_data"
    }
   ],
   "source": [
    "plt.figure(figsize=(15,7))\n",
    "sns.boxplot(news[\"landing_page\"],news[\"time_spent_on_the_page\"],hue=news[\"converted\"],palette=\"viridis\")\n",
    "plt.legend(bbox_to_anchor=(1.00, 1))\n",
    "plt.show()"
   ]
  },
  {
   "cell_type": "markdown",
   "metadata": {},
   "source": [
    "<span style=\"font-family: Helvetica; font-weight:bold;font-size:1.5em;color:#01797D\" > Landing Page vs Time Spent on the Page by Preferred Language"
   ]
  },
  {
   "cell_type": "code",
   "execution_count": 106,
   "metadata": {},
   "outputs": [
    {
     "data": {
      "image/png": "[encoded data removed]",
      "text/plain": [
       "<Figure size 1080x504 with 1 Axes>"
      ]
     },
     "metadata": {
      "needs_background": "light"
     },
     "output_type": "display_data"
    }
   ],
   "source": [
    "plt.figure(figsize=(15,7))\n",
    "sns.boxplot(news[\"landing_page\"],news[\"time_spent_on_the_page\"],hue=news[\"language_preferred\"],palette=\"viridis\")\n",
    "plt.legend(bbox_to_anchor=(1.00, 1))\n",
    "plt.show()"
   ]
  },
  {
   "cell_type": "markdown",
   "metadata": {},
   "source": [
    "<a style=\"font-family: Helvetica; font-weight:bold;font-size:1.5em;color:#01797D\"\n",
    "   name='link5'>Part Two: Do the users spend more time on the new landing page than the old landing page?</a>"
   ]
  },
  {
   "cell_type": "markdown",
   "metadata": {},
   "source": [
    "<span style=\"font-family: Helvetica; font-weight:bold;font-size:1.25em;color:#581845\" > Let's Write the Null and Alternative Hypothesis"
   ]
  },
  {
   "cell_type": "markdown",
   "metadata": {},
   "source": [
    "We will test the null hypothesis\n",
    "\n",
    ">$H_0:$ Users spend less than or equal amount of time on the new landing page.  \n",
    "\n",
    "against the alternative hypothesis\n",
    "\n",
    ">$H_a:$ Users spend more time on the new landing page.  "
   ]
  },
  {
   "cell_type": "markdown",
   "metadata": {},
   "source": [
    "<span style=\"font-family: Helvetica; font-weight:bold;font-size:1.25em;color:#581845\" > Let's Test Whether the Assumptions are Satisfied or Not"
   ]
  },
  {
   "cell_type": "markdown",
   "metadata": {},
   "source": [
    "<span style=\"font-family: Helvetica;font-size:1.0em;color:black\" >\n",
    "<ul>\n",
    "    <li> Continuous data - Yes, time is measured on a continuous scale.</li>\n",
    "    <li> Normally distributed populations - Yes, we are informed that the populations are assumed to be normal.</li>\n",
    "    <li> Independent populations - As we are taking random samples for two different groups, the two samples are from two independent populations.</li>\n",
    "    <li> Unequal population standard deviations - As the sample standard deviations are different, the population standard deviations may be assumed to be different.</li>\n",
    "    <li> Random sampling from the population - Yes, we are informed that the collected sample a simple random sample.</li>\n",
    "</ul>"
   ]
  },
  {
   "cell_type": "markdown",
   "metadata": {},
   "source": [
    "<span style=\"font-family: Helvetica; font-weight:bold;font-size:1.25em;color:#581845\" > Calculate the p-value"
   ]
  },
  {
   "cell_type": "code",
   "execution_count": 90,
   "metadata": {},
   "outputs": [
    {
     "name": "stdout",
     "output_type": "stream",
     "text": [
      "The p-value is  0.0001316123528095005\n"
     ]
    }
   ],
   "source": [
    "# import the required functions\n",
    "from scipy.stats import ttest_ind\n",
    "# prepare the data\n",
    "old_page = news[news.landing_page=='old']['time_spent_on_the_page']\n",
    "new_page = news[news.landing_page=='new']['time_spent_on_the_page']\n",
    "# find the p-value\n",
    "test_stat, p_value = ttest_ind(old_page, new_page, alternative = 'less')\n",
    "print('The p-value is ', p_value)"
   ]
  },
  {
   "cell_type": "markdown",
   "metadata": {},
   "source": [
    "<span style=\"font-family: Helvetica; font-weight:bold;font-size:1.25em;color:#581845\" > Compare the p-value with α"
   ]
  },
  {
   "cell_type": "code",
   "execution_count": 91,
   "metadata": {},
   "outputs": [
    {
     "name": "stdout",
     "output_type": "stream",
     "text": [
      "Level of significance: 0.05\n",
      "We have evidence to reject the null hypothesis since p value 0.0001316123528095005 is less than the Level of significance\n"
     ]
    }
   ],
   "source": [
    "alpha_value = 0.05 # Level of significance\n",
    "print('Level of significance: %.2f' %alpha_value)\n",
    "if p_value < alpha_value: \n",
    "    print('We have evidence to reject the null hypothesis since p value {0} is less than the Level of significance'.format(p_value))\n",
    "else:\n",
    "    print('We have no evidence to reject the null hypothesis since p value {0} is greater than the Level of significance'.format(p_value))"
   ]
  },
  {
   "cell_type": "markdown",
   "metadata": {},
   "source": [
    "<span style=\"font-family: Helvetica; font-weight:bold;font-size:1.25em;color:#581845\" > Conclusion"
   ]
  },
  {
   "cell_type": "markdown",
   "metadata": {},
   "source": [
    "<span style=\"font-family: Helvetica;font-size:1.0em;color:black\" >Since the pvalue is < 0.05, we have enough evidence to reject the null hypothesis. Hence, we do have enough statistical evidence to say that users spend more time on the new landing page. "
   ]
  },
  {
   "cell_type": "markdown",
   "metadata": {},
   "source": [
    "<a style=\"font-family: Helvetica; font-weight:bold;font-size:1.5em;color:#01797D\"\n",
    "   name='link6'>Part Three: Is the conversion rate (the proportion of users who visit the landing page and get converted) for the new page greater than the conversion rate for the old page?</a>"
   ]
  },
  {
   "cell_type": "markdown",
   "metadata": {},
   "source": [
    "<span style=\"font-family: Helvetica; font-weight:bold;font-size:1.25em;color:#581845\" > Let's Write the Null and Alternative Hypothesis"
   ]
  },
  {
   "cell_type": "markdown",
   "metadata": {},
   "source": [
    "We will test the null hypothesis\n",
    "\n",
    ">$H_0:$ The conversion rate for the new page is less than or equal to the conversion rate of people on the old page. \n",
    "\n",
    "against the alternative hypothesis\n",
    "\n",
    ">$H_a:$ The conversion rate for the new page is greater than the conversion rate of people on the old page. "
   ]
  },
  {
   "cell_type": "markdown",
   "metadata": {},
   "source": [
    "<span style=\"font-family: Helvetica; font-weight:bold;font-size:1.25em;color:#581845\" > Let's Test Whether the Assumptions are Satisfied or Not"
   ]
  },
  {
   "cell_type": "markdown",
   "metadata": {},
   "source": [
    "<span style=\"font-family: Helvetica;font-size:1.0em;color:black\" >\n",
    "<ul>\n",
    "    <li> Binomally distributed population - Yes, the user either converted or did not.</li>\n",
    "    <li> Random sampling from the population - Yes, we are informed that the collected sample is a simple random sample.</li>\n",
    "    <li> Can the binomial distribution approximated to normal distribution - Yes. For binary data, CLT works slower than usual.</li>\n",
    "</ul>"
   ]
  },
  {
   "cell_type": "markdown",
   "metadata": {},
   "source": [
    "<span style=\"font-family: Helvetica; font-weight:bold;font-size:1.25em;color:#581845\" > Data Preparation"
   ]
  },
  {
   "cell_type": "code",
   "execution_count": 92,
   "metadata": {},
   "outputs": [],
   "source": [
    "# To calculate the conversion rate of each page I created variables that counted the amount of yeses and nos for the old and new pages. \n",
    "old_page_yes = news[news.landing_page=='old'][news.converted=='yes']\n",
    "old_page_no = news[news.landing_page=='old'][news.converted=='no']\n",
    "new_page_yes = news[news.landing_page=='new'][news.converted=='yes']\n",
    "new_page_no = news[news.landing_page=='new'][news.converted=='no']\n",
    "total_yes = old_page_yes.count() + new_page_yes.count()"
   ]
  },
  {
   "cell_type": "code",
   "execution_count": 93,
   "metadata": {},
   "outputs": [
    {
     "name": "stdout",
     "output_type": "stream",
     "text": [
      "Old Page, Yes and No 21 29\n",
      "New Page, Yes and No 33 17\n",
      "Total Yeses user_id                   54\n",
      "group                     54\n",
      "landing_page              54\n",
      "time_spent_on_the_page    54\n",
      "converted                 54\n",
      "language_preferred        54\n",
      "dtype: int64\n"
     ]
    }
   ],
   "source": [
    "print('Old Page, Yes and No',old_page_yes.converted.count(), old_page_no.converted.count())\n",
    "print('New Page, Yes and No',new_page_yes.converted.count(), new_page_no.converted.count())\n",
    "print('Total Yeses', total_yes)"
   ]
  },
  {
   "cell_type": "code",
   "execution_count": 94,
   "metadata": {},
   "outputs": [],
   "source": [
    "# This creates the conversion by dividing the yes count with the total count\n",
    "conversion_old = old_page_yes.count()/(old_page_yes.count() + old_page_no.count())\n",
    "conversion_new = new_page_yes.count()/(new_page_yes.count() + new_page_no.count())"
   ]
  },
  {
   "cell_type": "code",
   "execution_count": 95,
   "metadata": {},
   "outputs": [
    {
     "name": "stdout",
     "output_type": "stream",
     "text": [
      "Old Conversion Rate user_id                   0.42\n",
      "group                     0.42\n",
      "landing_page              0.42\n",
      "time_spent_on_the_page    0.42\n",
      "converted                 0.42\n",
      "language_preferred        0.42\n",
      "dtype: float64\n",
      "\n",
      "New Conversion Rate user_id                   0.66\n",
      "group                     0.66\n",
      "landing_page              0.66\n",
      "time_spent_on_the_page    0.66\n",
      "converted                 0.66\n",
      "language_preferred        0.66\n",
      "dtype: float64\n"
     ]
    }
   ],
   "source": [
    "print('Old Conversion Rate',conversion_old) \n",
    "print(\"\")\n",
    "print('New Conversion Rate',conversion_new)"
   ]
  },
  {
   "cell_type": "markdown",
   "metadata": {},
   "source": [
    "<span style=\"font-family: Helvetica; font-weight:bold;font-size:1.25em;color:#581845\" > Calculate the p-value"
   ]
  },
  {
   "cell_type": "code",
   "execution_count": 96,
   "metadata": {},
   "outputs": [
    {
     "name": "stdout",
     "output_type": "stream",
     "text": [
      "The p-value is 0.016052616408112556\n"
     ]
    }
   ],
   "source": [
    "# import the required fuction\n",
    "from statsmodels.stats.proportion import proportions_ztest\n",
    "\n",
    "# set the counts of defective items\n",
    "converted = np.array([21, 33])\n",
    "\n",
    "# set the sample sizes\n",
    "nobs = np.array([50, 50])\n",
    "\n",
    "# find the p-value\n",
    "test_stat, p_value = proportions_ztest(converted, nobs)\n",
    "print('The p-value is ' + str(p_value))"
   ]
  },
  {
   "cell_type": "markdown",
   "metadata": {},
   "source": [
    "<span style=\"font-family: Helvetica; font-weight:bold;font-size:1.25em;color:#581845\" > Compare the p-value with α"
   ]
  },
  {
   "cell_type": "code",
   "execution_count": 97,
   "metadata": {},
   "outputs": [
    {
     "name": "stdout",
     "output_type": "stream",
     "text": [
      "Level of significance: 0.05\n",
      "We have evidence to reject the null hypothesis since p value 0.016052616408112556 is less than the Level of significance\n"
     ]
    }
   ],
   "source": [
    "alpha_value = 0.05 # Level of significance\n",
    "print('Level of significance: %.2f' %alpha_value)\n",
    "if p_value < alpha_value: \n",
    "    print('We have evidence to reject the null hypothesis since p value {0} is less than the Level of significance'.format(p_value))\n",
    "else:\n",
    "    print('We have no evidence to reject the null hypothesis since p value {0} is greater than the Level of significance'.format(p_value))"
   ]
  },
  {
   "cell_type": "markdown",
   "metadata": {},
   "source": [
    "<span style=\"font-family: Helvetica; font-weight:bold;font-size:1.25em;color:#581845\" > Conclusion"
   ]
  },
  {
   "cell_type": "markdown",
   "metadata": {},
   "source": [
    "<span style=\"font-family: Helvetica;font-size:1.0em;color:black\" >Since the pvalue is < 0.05, we have enough evidence to reject the null hypothesis. Hence, we do have enough statistical evidence to say that the conversion rate on the new page is greater than the conversion on the old page."
   ]
  },
  {
   "cell_type": "markdown",
   "metadata": {},
   "source": [
    "<a style=\"font-family: Helvetica; font-weight:bold;font-size:1.5em;color:#01797D\"\n",
    "   name='link7'>Part Four: Does the converted status depend on the preferred language? [Hint: Create a contingency table using the pandas.crosstab() function]</a>"
   ]
  },
  {
   "cell_type": "markdown",
   "metadata": {},
   "source": [
    "<span style=\"font-family: Helvetica; font-weight:bold;font-size:1.25em;color:#581845\" > Creating the Contingency Table"
   ]
  },
  {
   "cell_type": "code",
   "execution_count": 98,
   "metadata": {},
   "outputs": [
    {
     "data": {
      "text/html": [
       "<div>\n",
       "<style scoped>\n",
       "    .dataframe tbody tr th:only-of-type {\n",
       "        vertical-align: middle;\n",
       "    }\n",
       "\n",
       "    .dataframe tbody tr th {\n",
       "        vertical-align: top;\n",
       "    }\n",
       "\n",
       "    .dataframe thead th {\n",
       "        text-align: right;\n",
       "    }\n",
       "</style>\n",
       "<table border=\"1\" class=\"dataframe\">\n",
       "  <thead>\n",
       "    <tr style=\"text-align: right;\">\n",
       "      <th>language_preferred</th>\n",
       "      <th>English</th>\n",
       "      <th>French</th>\n",
       "      <th>Spanish</th>\n",
       "    </tr>\n",
       "    <tr>\n",
       "      <th>converted</th>\n",
       "      <th></th>\n",
       "      <th></th>\n",
       "      <th></th>\n",
       "    </tr>\n",
       "  </thead>\n",
       "  <tbody>\n",
       "    <tr>\n",
       "      <th>no</th>\n",
       "      <td>11</td>\n",
       "      <td>19</td>\n",
       "      <td>16</td>\n",
       "    </tr>\n",
       "    <tr>\n",
       "      <th>yes</th>\n",
       "      <td>21</td>\n",
       "      <td>15</td>\n",
       "      <td>18</td>\n",
       "    </tr>\n",
       "  </tbody>\n",
       "</table>\n",
       "</div>"
      ],
      "text/plain": [
       "language_preferred  English  French  Spanish\n",
       "converted                                   \n",
       "no                       11      19       16\n",
       "yes                      21      15       18"
      ]
     },
     "execution_count": 98,
     "metadata": {},
     "output_type": "execute_result"
    }
   ],
   "source": [
    "crosstab = pd.crosstab(news.converted, news.language_preferred)\n",
    "crosstab"
   ]
  },
  {
   "cell_type": "markdown",
   "metadata": {},
   "source": [
    "<span style=\"font-family: Helvetica; font-weight:bold;font-size:1.25em;color:#581845\" > Let's Write the Null and Alternative Hypothesis"
   ]
  },
  {
   "cell_type": "markdown",
   "metadata": {},
   "source": [
    "We will test the null hypothesis\n",
    "\n",
    ">$H_0:$ Converted status is independent on preferred language.\n",
    "\n",
    "against the alternative hypothesis\n",
    "\n",
    ">$H_a:$ Converted status depends on preferred language."
   ]
  },
  {
   "cell_type": "markdown",
   "metadata": {},
   "source": [
    "<span style=\"font-family: Helvetica; font-weight:bold;font-size:1.25em;color:#581845\" > Let's Test Whether the Assumptions are Satisfied or Not"
   ]
  },
  {
   "cell_type": "markdown",
   "metadata": {},
   "source": [
    "<span style=\"font-family: Helvetica;font-size:1.0em;color:black\" >\n",
    "<ul>\n",
    "    <li> Categorical variables - Yes</li>\n",
    "    <li>Expected value of the number of sample observations in each level of the variable is at least 5 - Yes, the number of observations in each level is greater than 5.</li>\n",
    "    <li>Random sampling from the population - Yes, we are informed that the collected sample is a simple random sample.</li>\n",
    "</ul>"
   ]
  },
  {
   "cell_type": "markdown",
   "metadata": {},
   "source": [
    "<span style=\"font-family: Helvetica; font-weight:bold;font-size:1.25em;color:#581845\" > Selecting the Appropriate Test"
   ]
  },
  {
   "cell_type": "markdown",
   "metadata": {},
   "source": [
    "<span style=\"font-family: Helvetica;font-size:1.0em;color:black\" >As stated in the NEP Case Study on Chi-Square Test of Independence, the formulated hypotheses can be tested using a Chi-Square Test of Independence of Attributes, concerning the two categorical variables, Preferred Lanaguage and Converted. "
   ]
  },
  {
   "cell_type": "markdown",
   "metadata": {},
   "source": [
    "<span style=\"font-family: Helvetica; font-weight:bold;font-size:1.25em;color:#581845\" > Decide the Significance Level"
   ]
  },
  {
   "cell_type": "markdown",
   "metadata": {},
   "source": [
    "<span style=\"font-family: Helvetica;font-size:1.0em;color:black\" >Here, we select α= 0.05."
   ]
  },
  {
   "cell_type": "markdown",
   "metadata": {},
   "source": [
    "<span style=\"font-family: Helvetica; font-weight:bold;font-size:1.25em;color:#581845\" > Data Preparation"
   ]
  },
  {
   "cell_type": "markdown",
   "metadata": {},
   "source": [
    "<span style=\"font-family: Helvetica;font-size:1.0em;color:black\" > In this problem the data did not need to be changed."
   ]
  },
  {
   "cell_type": "markdown",
   "metadata": {},
   "source": [
    "<span style=\"font-family: Helvetica; font-weight:bold;font-size:1.25em;color:#581845\" > Calculate the p-value"
   ]
  },
  {
   "cell_type": "code",
   "execution_count": 99,
   "metadata": {},
   "outputs": [
    {
     "name": "stdout",
     "output_type": "stream",
     "text": [
      "The p-value is 0.21298887487543447\n"
     ]
    }
   ],
   "source": [
    "# import the required function\n",
    "from scipy.stats import chi2_contingency\n",
    "\n",
    "# find the p-value\n",
    "chi, p_value, dof, expected = chi2_contingency(crosstab)\n",
    "print('The p-value is', p_value)"
   ]
  },
  {
   "cell_type": "markdown",
   "metadata": {},
   "source": [
    "<span style=\"font-family: Helvetica; font-weight:bold;font-size:1.25em;color:#581845\" > Compare the p-value with α"
   ]
  },
  {
   "cell_type": "code",
   "execution_count": 100,
   "metadata": {},
   "outputs": [
    {
     "name": "stdout",
     "output_type": "stream",
     "text": [
      "Level of significance: 0.05\n",
      "We have no evidence to reject the null hypothesis since p value 0.21298887487543447 is greater than the Level of significance\n"
     ]
    }
   ],
   "source": [
    "alpha_value = 0.05 # Level of significance\n",
    "print('Level of significance: %.2f' %alpha_value)\n",
    "if p_value < alpha_value: \n",
    "    print('We have evidence to reject the null hypothesis since p value {0} is less than the Level of significance'.format(p_value))\n",
    "else:\n",
    "    print('We have no evidence to reject the null hypothesis since p value {0} is greater than the Level of significance'.format(p_value))"
   ]
  },
  {
   "cell_type": "markdown",
   "metadata": {},
   "source": [
    "<span style=\"font-family: Helvetica; font-weight:bold;font-size:1.25em;color:#581845\" > Conclusion"
   ]
  },
  {
   "cell_type": "markdown",
   "metadata": {},
   "source": [
    "<span style=\"font-family: Helvetica;font-size:1.0em;color:black\" >Since the pvalue is > 0.05, we fail to reject the null hypothesis. Hence, we do not have enough statistical evidence to say that converted status is dependent on preferred language."
   ]
  },
  {
   "cell_type": "markdown",
   "metadata": {},
   "source": [
    "<a style=\"font-family: Helvetica; font-weight:bold;font-size:1.5em;color:#01797D\"\n",
    "   name='link8'>Part Five: Is the mean time spent on the new page same for the different language users?</a>"
   ]
  },
  {
   "cell_type": "markdown",
   "metadata": {},
   "source": [
    "<span style=\"font-family: Helvetica;font-size:1.0em;color:black\" >Here, time_spent_on_the_page is the response and language_preferred is the factor."
   ]
  },
  {
   "cell_type": "code",
   "execution_count": 101,
   "metadata": {},
   "outputs": [
    {
     "data": {
      "text/plain": [
       "Spanish    34\n",
       "French     34\n",
       "English    32\n",
       "Name: language_preferred, dtype: int64"
      ]
     },
     "execution_count": 101,
     "metadata": {},
     "output_type": "execute_result"
    }
   ],
   "source": [
    "# get the levels of factor fuel_type\n",
    "news['language_preferred'].value_counts()"
   ]
  },
  {
   "cell_type": "markdown",
   "metadata": {},
   "source": [
    "<span style=\"font-family: Helvetica; font-weight:bold;font-size:1.25em;color:#581845\" > Let's Write the Null and Alternative Hypothesis"
   ]
  },
  {
   "cell_type": "markdown",
   "metadata": {},
   "source": [
    "We will test the null hypothesis\n",
    "\n",
    ">$H_0:$ The mean time spent on the new page is equal for the different language users. \n",
    "\n",
    "against the alternative hypothesis\n",
    "\n",
    ">$H_a:$ At least one of the preferred languages had a different mean time spent on the new page. "
   ]
  },
  {
   "cell_type": "markdown",
   "metadata": {},
   "source": [
    "<span style=\"font-family: Helvetica; font-weight:bold;font-size:1.25em;color:#581845\" > Selecting the Appropriate Test"
   ]
  },
  {
   "cell_type": "markdown",
   "metadata": {},
   "source": [
    "<span style=\"font-family: Helvetica;font-size:1.0em;color:black\" >\n",
    "<ul>\n",
    "    <li> For testing of normality, Shapiro-Wilk’s test is applied to the response variable.</li>\n",
    "    <li>For equality of variance, Levene test is applied to the response variable. </li>\n",
    "</ul>"
   ]
  },
  {
   "cell_type": "markdown",
   "metadata": {},
   "source": [
    "<span style=\"font-family: Helvetica; font-weight:bold;font-size:1.25em;color:#581845\" > Shapiro-Wilk's Test"
   ]
  },
  {
   "cell_type": "markdown",
   "metadata": {},
   "source": [
    "We will test the null hypothesis\n",
    "\n",
    ">$H_0:$ Time spent on the new page follows a normal distribution. \n",
    "\n",
    "against the alternative hypothesis\n",
    "\n",
    ">$H_a:$ Time spent on the new page does not follow a normal distribution. "
   ]
  },
  {
   "cell_type": "code",
   "execution_count": 102,
   "metadata": {},
   "outputs": [
    {
     "name": "stdout",
     "output_type": "stream",
     "text": [
      "The p-value is 0.5643684267997742\n"
     ]
    }
   ],
   "source": [
    "# Assumption 1: Normality\n",
    "# import the required function\n",
    "from scipy import stats\n",
    "\n",
    "# find the p-value\n",
    "w, p_value = stats.shapiro(news['time_spent_on_the_page']) \n",
    "print('The p-value is', p_value)"
   ]
  },
  {
   "cell_type": "markdown",
   "metadata": {},
   "source": [
    "<span style=\"font-family: Helvetica;font-size:1.0em;color:black\" >Since the p-value of the test is very large, we fail to reject the null hypothesis that the response follows the normal distribution."
   ]
  },
  {
   "cell_type": "markdown",
   "metadata": {},
   "source": [
    "<span style=\"font-family: Helvetica; font-weight:bold;font-size:1.25em;color:#581845\" > Levene's Test"
   ]
  },
  {
   "cell_type": "markdown",
   "metadata": {},
   "source": [
    "We will test the null hypothesis\n",
    "\n",
    ">$H_0:$ All the population variances are equal. \n",
    "\n",
    "against the alternative hypothesis\n",
    "\n",
    ">$H_a:$ At least one variance is different from the rest.  "
   ]
  },
  {
   "cell_type": "code",
   "execution_count": 103,
   "metadata": {},
   "outputs": [
    {
     "name": "stdout",
     "output_type": "stream",
     "text": [
      "The p-value is 0.06515086840327314\n"
     ]
    }
   ],
   "source": [
    "#Assumption 2: Homogeneity of Variance\n",
    "#import the required function\n",
    "from scipy.stats import levene\n",
    "statistic, p_value = levene( news['time_spent_on_the_page'][news['language_preferred']==\"English\"], \n",
    "                                   news['time_spent_on_the_page'][news['language_preferred']==\"French\"], \n",
    "                                   news['time_spent_on_the_page'][news['language_preferred']==\"Spanish\"])\n",
    "# find the p-value\n",
    "print('The p-value is', p_value)"
   ]
  },
  {
   "cell_type": "markdown",
   "metadata": {},
   "source": [
    "<span style=\"font-family: Helvetica;font-size:1.0em;color:black\" >Since the p-value is bigger than 0.05, we fail to reject the null hypothesis that the response follows the normal distribution."
   ]
  },
  {
   "cell_type": "markdown",
   "metadata": {},
   "source": [
    "<span style=\"font-family: Helvetica; font-weight:bold;font-size:1.25em;color:#581845\" > Let's Test Whether the Assumptions are Satisfied or Not "
   ]
  },
  {
   "cell_type": "markdown",
   "metadata": {},
   "source": [
    "<span style=\"font-family: Helvetica;font-size:1.0em;color:black\" >\n",
    "<ul>\n",
    "    <li> The populations are normally distributed - Yes, the normality assumption is verified using the Shapiro-Wilk’s test.</li>\n",
    "    <li>Samples are independent simple random samples - Yes, we are informed that the collected sample is a simple random sample. </li>\n",
    "    <li>Population variances are equal - Yes, the homogeneity of variance assumption is verified using the Levene's test.</li>\n",
    "</ul>"
   ]
  },
  {
   "cell_type": "markdown",
   "metadata": {},
   "source": [
    "<span style=\"font-family: Helvetica; font-weight:bold;font-size:1.25em;color:#581845\" > Calculate the p-value"
   ]
  },
  {
   "cell_type": "code",
   "execution_count": 104,
   "metadata": {},
   "outputs": [
    {
     "name": "stdout",
     "output_type": "stream",
     "text": [
      "The p-value is 0.8665610536012648\n"
     ]
    }
   ],
   "source": [
    "#import the required function\n",
    "from scipy.stats import f_oneway\n",
    "\n",
    "# perform one-way anova test\n",
    "test_stat, p_value = f_oneway(news.loc[news['language_preferred'] == 'English', 'time_spent_on_the_page'],\n",
    "                              news.loc[news['language_preferred'] == 'French', 'time_spent_on_the_page'],\n",
    "                              news.loc[news['language_preferred'] == 'Spanish', 'time_spent_on_the_page'])\n",
    "print('The p-value is ' + str(p_value))"
   ]
  },
  {
   "cell_type": "markdown",
   "metadata": {},
   "source": [
    "<span style=\"font-family: Helvetica; font-weight:bold;font-size:1.25em;color:#581845\" > Compare the p-value with α"
   ]
  },
  {
   "cell_type": "code",
   "execution_count": 105,
   "metadata": {},
   "outputs": [
    {
     "name": "stdout",
     "output_type": "stream",
     "text": [
      "Level of significance: 0.05\n",
      "We have no evidence to reject the null hypothesis since p value 0.8665610536012648 is greater than the Level of significance\n"
     ]
    }
   ],
   "source": [
    "alpha_value = 0.05 # Level of significance\n",
    "print('Level of significance: %.2f' %alpha_value)\n",
    "if p_value < alpha_value: \n",
    "    print('We have evidence to reject the null hypothesis since p value {0} is less than the Level of significance'.format(p_value))\n",
    "else:\n",
    "    print('We have no evidence to reject the null hypothesis since p value {0} is greater than the Level of significance'.format(p_value))"
   ]
  },
  {
   "cell_type": "markdown",
   "metadata": {},
   "source": [
    "<span style=\"font-family: Helvetica; font-weight:bold;font-size:1.25em;color:#581845\" > Conclusion"
   ]
  },
  {
   "cell_type": "markdown",
   "metadata": {},
   "source": [
    "<span style=\"font-family: Helvetica;font-size:1.0em;color:black\" >As the p-value is much larger than the significance level, we cannot reject the null hypothesis. Hence, we do not have enough statistical significance to conclude that at least one preferred language is different from the rest at 5% significance level."
   ]
  }
 ],
 "metadata": {
  "kernelspec": {
   "display_name": "Python 3",
   "language": "python",
   "name": "python3"
  },
  "language_info": {
   "codemirror_mode": {
    "name": "ipython",
    "version": 3
   },
   "file_extension": ".py",
   "mimetype": "text/x-python",
   "name": "python",
   "nbconvert_exporter": "python",
   "pygments_lexer": "ipython3",
   "version": "3.7.6"
  }
 },
 "nbformat": 4,
 "nbformat_minor": 4
}
